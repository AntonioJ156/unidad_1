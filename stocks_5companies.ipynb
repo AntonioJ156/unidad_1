{
 "cells": [
  {
   "cell_type": "code",
   "execution_count": 1,
   "id": "spiritual-genealogy",
   "metadata": {},
   "outputs": [],
   "source": [
    "import pandas as pd"
   ]
  },
  {
   "cell_type": "code",
   "execution_count": 2,
   "id": "voluntary-yellow",
   "metadata": {},
   "outputs": [],
   "source": [
    "initial = 100\n",
    "profits2020 = []\n",
    "profits2021 = []\n",
    "companies = [\"facebook\", \"amazon\", \"google\", \"netflix\", \"apple\"]\n",
    "\n",
    "facebook_df = pd.read_csv(\"csv/facebook-2020-2021.csv\")\n",
    "amazon_df = pd.read_csv(\"csv/amazon-2020-2021.csv\")\n",
    "google_df = pd.read_csv(\"csv/google-2020-2021.csv\")\n",
    "netflix_df = pd.read_csv(\"csv/netflix-2020-2021.csv\")\n",
    "apple_df = pd.read_csv(\"csv/apple-2020-2021.csv\")"
   ]
  },
  {
   "cell_type": "code",
   "execution_count": 3,
   "id": "educational-singing",
   "metadata": {},
   "outputs": [],
   "source": [
    "def clean(df):\n",
    "    df = df.astype(str)\n",
    "    df['Date'] = pd.to_datetime(df['Date'], format='%b %d, %Y')\n",
    "    \n",
    "    df[\"Open\"] = df[\"Open\"].str.replace(',', '')\n",
    "    df[\"Open\"] = df[\"Open\"].str.replace(\" Dividend\", '')\n",
    "    df[\"Open\"] = df[\"Open\"].str.replace(\" Stock Split\", '')\n",
    "    df[\"Close*\"] = df[\"Close*\"].str.replace(',', '')\n",
    "    df[\"Close*\"] = df[\"Close*\"].str.replace(\"null\", '')\n",
    "    \n",
    "    df[\"Open\"] = pd.to_numeric(df[\"Open\"], errors='coerce')\n",
    "    df[\"Close*\"] = pd.to_numeric(df[\"Close*\"], errors='coerce')\n",
    "    \n",
    "    return df\n",
    "\n",
    "def getProfit(df):\n",
    "    filtered_df = df.loc[df['Date'] <= '2020-12-31']\n",
    "    minCurr = filtered_df.loc[filtered_df['Date'] == filtered_df['Date'].min()][\"Open\"].values[0]\n",
    "    maxCurr = filtered_df.loc[filtered_df['Date'] == filtered_df['Date'].max()][\"Close*\"].values[0]\n",
    "\n",
    "    profits2020.append((maxCurr * initial) / minCurr)\n",
    "\n",
    "def getProfit2(df):\n",
    "    filtered_df = df.loc[(df['Date'] <= '2021-12-31') & (df['Date'] > '2020-12-31')]\n",
    "    minCurr = filtered_df.loc[filtered_df['Date'] == filtered_df['Date'].min()][\"Open\"].values[0]\n",
    "    maxCurr = filtered_df.loc[filtered_df['Date'] == filtered_df['Date'].max()][\"Close*\"].values[0]\n",
    "\n",
    "    profits2021.append((maxCurr * initial) / minCurr)"
   ]
  },
  {
   "cell_type": "code",
   "execution_count": 4,
   "id": "handy-consolidation",
   "metadata": {},
   "outputs": [],
   "source": [
    "facebook_df = clean(facebook_df)\n",
    "amazon_df = clean(amazon_df)\n",
    "google_df = clean(google_df)\n",
    "netflix_df = clean(netflix_df)\n",
    "apple_df = clean(apple_df)"
   ]
  },
  {
   "cell_type": "code",
   "execution_count": 5,
   "id": "approved-colombia",
   "metadata": {},
   "outputs": [
    {
     "name": "stdout",
     "output_type": "stream",
     "text": [
      "[173.70293333333333, 132.12091898428054, 130.58626215944244, 165.81723397730755, 179.16554145287603]\n"
     ]
    }
   ],
   "source": [
    "getProfit(amazon_df.copy())\n",
    "getProfit(facebook_df.copy())\n",
    "getProfit(google_df.copy())\n",
    "getProfit(netflix_df.copy())\n",
    "getProfit(apple_df.copy())\n",
    "print(profits2020)"
   ]
  },
  {
   "cell_type": "code",
   "execution_count": 6,
   "id": "yellow-debut",
   "metadata": {},
   "outputs": [
    {
     "name": "stdout",
     "output_type": "stream",
     "text": [
      "[94.47981651376146, 97.6781425140112, 117.31852475619331, 96.10760667903526, 90.64559616536847]\n"
     ]
    }
   ],
   "source": [
    "getProfit2(amazon_df.copy())\n",
    "getProfit2(facebook_df.copy())\n",
    "getProfit2(google_df.copy())\n",
    "getProfit2(netflix_df.copy())\n",
    "getProfit2(apple_df.copy())\n",
    "print(profits2021)"
   ]
  },
  {
   "cell_type": "code",
   "execution_count": 7,
   "id": "regulated-detective",
   "metadata": {},
   "outputs": [
    {
     "name": "stdout",
     "output_type": "stream",
     "text": [
      "Most profitable 2020: apple\n",
      "Most profitable 2021: google\n"
     ]
    }
   ],
   "source": [
    "print(\"Most profitable 2020: {}\".format(companies[profits2020.index(max(profits2020))]))\n",
    "print(\"Most profitable 2021: {}\".format(companies[profits2021.index(max(profits2021))]))"
   ]
  },
  {
   "cell_type": "code",
   "execution_count": null,
   "id": "approved-calculation",
   "metadata": {},
   "outputs": [],
   "source": []
  }
 ],
 "metadata": {
  "kernelspec": {
   "display_name": "Python 3",
   "language": "python",
   "name": "python3"
  },
  "language_info": {
   "codemirror_mode": {
    "name": "ipython",
    "version": 3
   },
   "file_extension": ".py",
   "mimetype": "text/x-python",
   "name": "python",
   "nbconvert_exporter": "python",
   "pygments_lexer": "ipython3",
   "version": "3.8.6"
  }
 },
 "nbformat": 4,
 "nbformat_minor": 5
}
