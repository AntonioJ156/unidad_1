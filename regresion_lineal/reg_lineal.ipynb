{
 "cells": [
  {
   "cell_type": "code",
   "execution_count": 1,
   "id": "boring-divide",
   "metadata": {},
   "outputs": [],
   "source": [
    "import pandas as pd\n",
    "import numpy as np\n",
    "from sklearn import linear_model"
   ]
  },
  {
   "cell_type": "code",
   "execution_count": 2,
   "id": "united-eclipse",
   "metadata": {},
   "outputs": [],
   "source": [
    "dep_df = pd.read_csv('departamentos-pro.csv')\n",
    "house_df = pd.read_csv('casas-pro.csv')"
   ]
  },
  {
   "cell_type": "code",
   "execution_count": 3,
   "id": "proprietary-finance",
   "metadata": {},
   "outputs": [],
   "source": [
    "dep_df.fillna(0)\n",
    "dep_model = linear_model.LinearRegression()\n",
    "\n",
    "dep_refugio = dep_df.loc[dep_df['web-scraper-start-url'].str.contains(\"el-refugio\")]\n",
    "len = int(dep_refugio['precio'].size * 0.7)"
   ]
  },
  {
   "cell_type": "code",
   "execution_count": 4,
   "id": "sensitive-airline",
   "metadata": {},
   "outputs": [
    {
     "data": {
      "text/plain": [
       "array([[14635.69618587]])"
      ]
     },
     "execution_count": 4,
     "metadata": {},
     "output_type": "execute_result"
    }
   ],
   "source": [
    "dep_70 = dep_refugio.iloc[0:len]\n",
    "\n",
    "dep_model.fit(pd.DataFrame(dep_70['mets']), pd.DataFrame(dep_70['precio']))\n",
    "dep_model.predict(pd.DataFrame([125]))"
   ]
  },
  {
   "cell_type": "code",
   "execution_count": 5,
   "id": "invisible-spanking",
   "metadata": {},
   "outputs": [
    {
     "data": {
      "text/plain": [
       "array([[14398.58172379]])"
      ]
     },
     "execution_count": 5,
     "metadata": {},
     "output_type": "execute_result"
    }
   ],
   "source": [
    "dep_70_100 = dep_refugio.iloc[len:]\n",
    "\n",
    "dep_model.fit(pd.DataFrame(dep_70_100['mets']), pd.DataFrame(dep_70_100['precio']))\n",
    "dep_model.predict(pd.DataFrame([125]))"
   ]
  },
  {
   "cell_type": "code",
   "execution_count": 6,
   "id": "experienced-manual",
   "metadata": {},
   "outputs": [],
   "source": [
    "house_df.fillna(0)\n",
    "model_house = linear_model.LinearRegression()\n",
    "\n",
    "casas_refugio = house_df.loc[house_df['web-scraper-start-url'].str.contains(\"refugio\")]\n",
    "len = int(casas_refugio['precio'].size * 0.7)"
   ]
  },
  {
   "cell_type": "code",
   "execution_count": 7,
   "id": "peaceful-forty",
   "metadata": {},
   "outputs": [
    {
     "data": {
      "text/plain": [
       "array([[3076506.90755358]])"
      ]
     },
     "execution_count": 7,
     "metadata": {},
     "output_type": "execute_result"
    }
   ],
   "source": [
    "house_70 = casas_refugio.iloc[0:len]\n",
    "\n",
    "model_house.fit(pd.DataFrame(house_70['mets']), pd.DataFrame(house_70['precio']))\n",
    "model_house.predict(pd.DataFrame([492]))"
   ]
  },
  {
   "cell_type": "code",
   "execution_count": 8,
   "id": "animated-sherman",
   "metadata": {},
   "outputs": [
    {
     "data": {
      "text/plain": [
       "array([[3540790.18884128]])"
      ]
     },
     "execution_count": 8,
     "metadata": {},
     "output_type": "execute_result"
    }
   ],
   "source": [
    "house_70_100 = pd.DataFrame(casas_refugio.iloc[len:])\n",
    "\n",
    "model_house.fit(pd.DataFrame(house_70_100['mets']), pd.DataFrame(house_70_100['precio']))\n",
    "model_house.predict(pd.DataFrame([492]))"
   ]
  },
  {
   "cell_type": "code",
   "execution_count": null,
   "id": "romance-monday",
   "metadata": {},
   "outputs": [],
   "source": []
  }
 ],
 "metadata": {
  "kernelspec": {
   "display_name": "Python 3",
   "language": "python",
   "name": "python3"
  },
  "language_info": {
   "codemirror_mode": {
    "name": "ipython",
    "version": 3
   },
   "file_extension": ".py",
   "mimetype": "text/x-python",
   "name": "python",
   "nbconvert_exporter": "python",
   "pygments_lexer": "ipython3",
   "version": "3.8.6"
  }
 },
 "nbformat": 4,
 "nbformat_minor": 5
}
