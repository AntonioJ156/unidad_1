{
 "cells": [
  {
   "cell_type": "code",
   "execution_count": 2,
   "id": "geographic-smart",
   "metadata": {},
   "outputs": [],
   "source": [
    "import pandas as pd\n",
    "import numpy as np\n",
    "\n",
    "df = pd.read_csv('csv/stock-ms-technology.csv').astype(str)"
   ]
  },
  {
   "cell_type": "code",
   "execution_count": 3,
   "id": "automated-cylinder",
   "metadata": {},
   "outputs": [
    {
     "name": "stdout",
     "output_type": "stream",
     "text": [
      "La media de las acciones de tecnología es: 92.08292134831461\n",
      "La desviación de las acciones de tecnología es: 134.7912370405673\n"
     ]
    }
   ],
   "source": [
    "df[\"Price (Intraday)\"] = df[\"Price (Intraday)\"].str.replace(\",\", \"\")\n",
    "df[\"Price (Intraday)\"] = pd.to_numeric(df[\"Price (Intraday)\"], errors=\"coerce\")\n",
    "\n",
    "minPrice = df.loc[df[\"Price (Intraday)\"] == df[\"Price (Intraday)\"].min()]\n",
    "maxPrice = df.loc[df[\"Price (Intraday)\"] == df[\"Price (Intraday)\"].max()]\n",
    "\n",
    "#print(\"La acción más barata es: {} {} {}\\n\".format(minPrice[\"Symbol\"].values[0], minPrice[\"Name\"].values[0], minPrice[\"Price (Intraday)\"].values[0]))\n",
    "#print(\"La acción más cara es: {} {} {}\\n\".format(maxPrice[\"Symbol\"].values[0], maxPrice[\"Name\"].values[0], maxPrice[\"Price (Intraday)\"].values[0]))\n",
    "      \n",
    "print(\"La media de las acciones de tecnología es: {}\".format(df[\"Price (Intraday)\"].mean()))\n",
    "print(\"La desviación de las acciones de tecnología es: {}\".format(np.std(list(df[\"Price (Intraday)\"]))))\n",
    "#print(\"La moda de las acciones de tecnología es: {}\".format(df[\"Price (Intraday)\"].mode()))\n",
    "#print(\"La mediana de las acciones de tecnología es: {}\".format(df[\"Price (Intraday)\"].median()))"
   ]
  },
  {
   "cell_type": "code",
   "execution_count": null,
   "id": "sufficient-bargain",
   "metadata": {},
   "outputs": [],
   "source": []
  }
 ],
 "metadata": {
  "kernelspec": {
   "display_name": "Python 3",
   "language": "python",
   "name": "python3"
  },
  "language_info": {
   "codemirror_mode": {
    "name": "ipython",
    "version": 3
   },
   "file_extension": ".py",
   "mimetype": "text/x-python",
   "name": "python",
   "nbconvert_exporter": "python",
   "pygments_lexer": "ipython3",
   "version": "3.8.6"
  }
 },
 "nbformat": 4,
 "nbformat_minor": 5
}
